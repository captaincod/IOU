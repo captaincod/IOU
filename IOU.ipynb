{
 "cells": [
  {
   "cell_type": "code",
   "execution_count": 1,
   "id": "4e00d469",
   "metadata": {},
   "outputs": [],
   "source": [
    "import matplotlib.pyplot as plt\n",
    "import h5py\n",
    "import numpy as np"
   ]
  },
  {
   "cell_type": "code",
   "execution_count": 3,
   "id": "dc600273",
   "metadata": {},
   "outputs": [
    {
     "name": "stdout",
     "output_type": "stream",
     "text": [
      "[ 1. 12. 16. 18.]\n"
     ]
    },
    {
     "data": {
      "image/png": "[encoded data removed]",
      "text/plain": [
       "<Figure size 432x288 with 1 Axes>"
      ]
     },
     "metadata": {
      "needs_background": "light"
     },
     "output_type": "display_data"
    }
   ],
   "source": [
    "# пример данных\n",
    "\n",
    "with h5py.File(\"rect_data.h5\", \"r\") as f:\n",
    "    test_x = f[\"test\"][42]\n",
    "    test_y = f[\"test_bboxes\"][42]\n",
    "    plt.imshow(test_x)\n",
    "    print(test_y)"
   ]
  },
  {
   "cell_type": "code",
   "execution_count": 27,
   "id": "b2923ce0",
   "metadata": {},
   "outputs": [],
   "source": [
    "def iou(bbox1: list, bbox2: list) -> float:\n",
    "    \n",
    "    min_row1, max_row1, min_col1, max_col1 = bbox1\n",
    "    min_row2, max_row2, min_col2, max_col2 = bbox2\n",
    "    \n",
    "    area1 = (max_row1 - min_row1) * (max_col1 - min_col1)\n",
    "    area2 = (max_row2 - min_row2) * (max_col2 - min_col2)\n",
    "    \n",
    "    intersection_area = 0.0\n",
    "    \n",
    "    if min_col2 <= max_col1 and max_row2 >= min_row1:\n",
    "        intersection_area = (max_col1 - min_col2) * (max_row2 - min_row1)\n",
    "    elif min_col1 <= max_col2 and max_row1 >= min_row2:\n",
    "        intersection_area = (max_col1 - min_col2) * (max_row2 - min_row1)\n",
    "    \n",
    "    return intersection_area / (area1 + area2 - intersection_area)"
   ]
  },
  {
   "cell_type": "code",
   "execution_count": 30,
   "id": "23c9fd59",
   "metadata": {},
   "outputs": [],
   "source": [
    "bbox1 = [0, 10, 0, 10]\n",
    "bbox2 = [0, 10, 1, 10]\n",
    "bbox3 = [20, 30, 20, 30]\n",
    "bbox4 = [5, 15, 5, 15]\n",
    "\n",
    "assert iou(bbox1, bbox1) == 1.0\n",
    "assert iou(bbox1, bbox2) == 0.9\n",
    "assert iou(bbox1, bbox3) == 0.0"
   ]
  },
  {
   "cell_type": "code",
   "execution_count": 31,
   "id": "ef16a62d",
   "metadata": {},
   "outputs": [
    {
     "ename": "AssertionError",
     "evalue": "",
     "output_type": "error",
     "traceback": [
      "\u001b[1;31m---------------------------------------------------------------------------\u001b[0m",
      "\u001b[1;31mAssertionError\u001b[0m                            Traceback (most recent call last)",
      "\u001b[1;32m~\\AppData\\Local\\Temp/ipykernel_11048/3157469006.py\u001b[0m in \u001b[0;36m<module>\u001b[1;34m\u001b[0m\n\u001b[1;32m----> 1\u001b[1;33m \u001b[1;32massert\u001b[0m \u001b[0mround\u001b[0m\u001b[1;33m(\u001b[0m\u001b[0miou\u001b[0m\u001b[1;33m(\u001b[0m\u001b[0mbbox1\u001b[0m\u001b[1;33m,\u001b[0m \u001b[0mbbox4\u001b[0m\u001b[1;33m)\u001b[0m\u001b[1;33m,\u001b[0m \u001b[1;36m2\u001b[0m\u001b[1;33m)\u001b[0m \u001b[1;33m==\u001b[0m \u001b[1;36m0.14\u001b[0m\u001b[1;33m\u001b[0m\u001b[1;33m\u001b[0m\u001b[0m\n\u001b[0m",
      "\u001b[1;31mAssertionError\u001b[0m: "
     ]
    }
   ],
   "source": [
    "assert round(iou(bbox1, bbox4), 2) == 0.14"
   ]
  },
  {
   "cell_type": "code",
   "execution_count": null,
   "id": "08577a58",
   "metadata": {},
   "outputs": [],
   "source": []
  }
 ],
 "metadata": {
  "kernelspec": {
   "display_name": "Python 3 (ipykernel)",
   "language": "python",
   "name": "python3"
  },
  "language_info": {
   "codemirror_mode": {
    "name": "ipython",
    "version": 3
   },
   "file_extension": ".py",
   "mimetype": "text/x-python",
   "name": "python",
   "nbconvert_exporter": "python",
   "pygments_lexer": "ipython3",
   "version": "3.9.7"
  }
 },
 "nbformat": 4,
 "nbformat_minor": 5
}
